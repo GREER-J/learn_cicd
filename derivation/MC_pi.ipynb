{
 "cells": [
  {
   "cell_type": "markdown",
   "metadata": {},
   "source": [
    "# MC estimation\n",
    "\n",
    "A circle with radius $r$ and a square with side lengths $d = 2r$\n",
    "$$\n",
    "\\begin{align*}\n",
    "\\frac{\\pi}{4} = \\frac{A(\\text{circle})}{A(\\text{square}} \\\\\n",
    "\\implies \\frac{\\pi}{4} = \\frac{\\pi r^2}{2d}\\\\\n",
    "\\implies \\frac{\\pi}{4} = \\frac{\\pi r^2}{2(2r)} \\\\\n",
    "\\implies \\frac{\\pi}{4} = \\frac{\\pi r^2}{4 r^2} \\\\\n",
    "\\implies \\frac{\\pi}{4} = \\frac{\\pi}{4} \\frac{r^2}{r^2} \\\\\n",
    "\\implies \\frac{\\pi}{4} = \\frac{\\pi}{4}\\\\\n",
    "\\end{align*}\n",
    "$$"
   ]
  },
  {
   "cell_type": "code",
   "execution_count": 83,
   "metadata": {},
   "outputs": [
    {
     "name": "stdout",
     "output_type": "stream",
     "text": [
      "3.141592653589793\n"
     ]
    }
   ],
   "source": [
    "import numpy as np\n",
    "print(np.pi)"
   ]
  },
  {
   "cell_type": "code",
   "execution_count": 84,
   "metadata": {},
   "outputs": [
    {
     "data": {
      "text/plain": [
       "0.83"
      ]
     },
     "execution_count": 84,
     "metadata": {},
     "output_type": "execute_result"
    }
   ],
   "source": [
    "N = 100\n",
    "X = np.random.uniform(0, 1, (N, 2))\n",
    "\n",
    "s = 0\n",
    "for i, (x, y) in enumerate(X):\n",
    "    z = np.sqrt(x**2 + y**2)\n",
    "    if z < 1:\n",
    "        # Inside square\n",
    "        s += 1\n",
    "s / N"
   ]
  },
  {
   "cell_type": "code",
   "execution_count": 85,
   "metadata": {},
   "outputs": [
    {
     "name": "stdout",
     "output_type": "stream",
     "text": [
      "2.88\n"
     ]
    }
   ],
   "source": [
    "N = 100\n",
    "X = np.random.uniform(-1, 1, (N, 2))\n",
    "\n",
    "s = 0\n",
    "for i, (x, y) in enumerate(X):\n",
    "    z = np.sqrt(x**2 + y**2)\n",
    "    if z <= 1:\n",
    "        s += 1\n",
    "print(4*(s / N))"
   ]
  },
  {
   "cell_type": "code",
   "execution_count": 86,
   "metadata": {},
   "outputs": [
    {
     "data": {
      "text/plain": [
       "2.88"
      ]
     },
     "execution_count": 86,
     "metadata": {},
     "output_type": "execute_result"
    }
   ],
   "source": [
    "f = 4*(sum([1 for (x,y) in X if np.sqrt(x**2 + y**2) <= 1 else 0])/N)\n",
    "f"
   ]
  },
  {
   "cell_type": "code",
   "execution_count": 87,
   "metadata": {},
   "outputs": [
    {
     "data": {
      "image/png": "[encoded data removed]",
      "text/plain": [
       "<Figure size 640x480 with 1 Axes>"
      ]
     },
     "metadata": {},
     "output_type": "display_data"
    }
   ],
   "source": [
    "import matplotlib.pyplot as plt\n",
    "\n",
    "plt.subplot(2,1,1)\n",
    "plt.scatter(X[:,0], X[:,1])\n",
    "\n",
    "plt.subplot(2,1,2)\n",
    "plt.scatter()\n",
    "plt.show()"
   ]
  }
 ],
 "metadata": {
  "kernelspec": {
   "display_name": "env",
   "language": "python",
   "name": "python3"
  },
  "language_info": {
   "codemirror_mode": {
    "name": "ipython",
    "version": 3
   },
   "file_extension": ".py",
   "mimetype": "text/x-python",
   "name": "python",
   "nbconvert_exporter": "python",
   "pygments_lexer": "ipython3",
   "version": "3.12.8"
  }
 },
 "nbformat": 4,
 "nbformat_minor": 2
}
